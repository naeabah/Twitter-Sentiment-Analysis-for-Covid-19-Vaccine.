{
  "nbformat": 4,
  "nbformat_minor": 0,
  "metadata": {
    "colab": {
      "name": "Untitled9.ipynb",
      "provenance": [],
      "collapsed_sections": [],
      "authorship_tag": "ABX9TyNcZTWSc7+8YiSce52UHd6S",
      "include_colab_link": true
    },
    "kernelspec": {
      "name": "python3",
      "display_name": "Python 3"
    },
    "language_info": {
      "name": "python"
    }
  },
  "cells": [
    {
      "cell_type": "markdown",
      "metadata": {
        "id": "view-in-github",
        "colab_type": "text"
      },
      "source": [
        "<a href=\"https://colab.research.google.com/github/naeabah/Twitter-Sentiment-Analysis-for-Covid-19-Vaccine./blob/main/Twitter%20Sentiment%20Analysis%20for%20Covid-19%20Vaccine..ipynb\" target=\"_parent\"><img src=\"https://colab.research.google.com/assets/colab-badge.svg\" alt=\"Open In Colab\"/></a>"
      ]
    },
    {
      "cell_type": "markdown",
      "metadata": {
        "id": "CoUnOnoXIpIG"
      },
      "source": [
        "# Twitter-Sentiment-Analysis-for-Covid-19-Vaccine\n",
        "\n",
        "### Nehemiah Abah"
      ]
    },
    {
      "cell_type": "code",
      "metadata": {
        "id": "ZlHorMyUfNi2"
      },
      "source": [
        "import tweepy\n",
        "from textblob import TextBlob\n",
        "from wordcloud import WordCloud\n",
        "import pandas as pd\n",
        "import numpy as np\n",
        "import re\n",
        "import matplotlib.pyplot as plt\n",
        "plt.style.use('fivethirtyeight')"
      ],
      "execution_count": null,
      "outputs": []
    },
    {
      "cell_type": "code",
      "metadata": {
        "id": "eLOxK3AKYFJ6"
      },
      "source": [
        "#Twitter API Crendentials\n",
        "consumerKey = 'IomEAG1qTAYiqx5XRjNKFzDkJ'\n",
        "consumerSecret = 'GIP3fFWCRAZOgGuBD9B1gA9vnln820H4NAw1r5q5dzaNBgbLN3'\n",
        "accessToken = '275097268-lLCeRg0RgDwZX2WbWYgtG8GuXTHUTS2isiBGDl0o'\n",
        "accessTokenSecret = 'JaNVOWAjRVwBBCImyc7QtcQ1lr81bcU2MrQsV4JmZ6JM4'"
      ],
      "execution_count": null,
      "outputs": []
    },
    {
      "cell_type": "code",
      "metadata": {
        "id": "jKxP4loAYu7v"
      },
      "source": [
        "#Create Authentication\n",
        "authenticate = tweepy.OAuthHandler(consumerKey, consumerSecret)\n",
        "\n",
        "#Set the access token and access token secret\n",
        "authenticate.set_access_token(accessToken, accessTokenSecret)\n",
        "\n",
        "#Create the API object while passing in the auth information\n",
        "api= tweepy.API(authenticate, wait_on_rate_limit= True)"
      ],
      "execution_count": null,
      "outputs": []
    },
    {
      "cell_type": "code",
      "metadata": {
        "id": "Oa8jA1sPasRj"
      },
      "source": [
        "search_term = '#Covid-19 vaccine -filter:retweets'\n",
        "tweets = tweepy.Cursor(api.search, q=search_term, lang=\"en\", since= '2021-01-01', tweet_mode='extended').items(4000)\n",
        "#Store the twets in a variable and get full text \n",
        "all_tweets = [tweet.full_text for tweet in tweets]"
      ],
      "execution_count": null,
      "outputs": []
    },
    {
      "cell_type": "code",
      "metadata": {
        "colab": {
          "base_uri": "https://localhost:8080/",
          "height": 204
        },
        "id": "NYJ-Yl9XoU1u",
        "outputId": "3333782e-2a90-4951-dde7-bc25dd4ee636"
      },
      "source": [
        "#Create Dataframe to Store the tweets with a column called tweets\n",
        "df = pd.DataFrame(all_tweets, columns = ['Tweets'])\n",
        "#Show the first 5 rows of Data\n",
        "df.head(5)"
      ],
      "execution_count": null,
      "outputs": [
        {
          "output_type": "execute_result",
          "data": {
            "text/html": [
              "<div>\n",
              "<style scoped>\n",
              "    .dataframe tbody tr th:only-of-type {\n",
              "        vertical-align: middle;\n",
              "    }\n",
              "\n",
              "    .dataframe tbody tr th {\n",
              "        vertical-align: top;\n",
              "    }\n",
              "\n",
              "    .dataframe thead th {\n",
              "        text-align: right;\n",
              "    }\n",
              "</style>\n",
              "<table border=\"1\" class=\"dataframe\">\n",
              "  <thead>\n",
              "    <tr style=\"text-align: right;\">\n",
              "      <th></th>\n",
              "      <th>Tweets</th>\n",
              "    </tr>\n",
              "  </thead>\n",
              "  <tbody>\n",
              "    <tr>\n",
              "      <th>0</th>\n",
              "      <td>@Glaven1994 1. Infected NZ MIQ security guard ...</td>\n",
              "    </tr>\n",
              "    <tr>\n",
              "      <th>1</th>\n",
              "      <td>CDC: Nearly 80% of Teachers, School Staff, Chi...</td>\n",
              "    </tr>\n",
              "    <tr>\n",
              "      <th>2</th>\n",
              "      <td>@MinorDub2021 @JO_PARRY__ART @pureangel40 @kat...</td>\n",
              "    </tr>\n",
              "    <tr>\n",
              "      <th>3</th>\n",
              "      <td>Out of 168 countries that have begun administe...</td>\n",
              "    </tr>\n",
              "    <tr>\n",
              "      <th>4</th>\n",
              "      <td>Disney World Opens COVID-19 Vaccine Site for W...</td>\n",
              "    </tr>\n",
              "  </tbody>\n",
              "</table>\n",
              "</div>"
            ],
            "text/plain": [
              "                                              Tweets\n",
              "0  @Glaven1994 1. Infected NZ MIQ security guard ...\n",
              "1  CDC: Nearly 80% of Teachers, School Staff, Chi...\n",
              "2  @MinorDub2021 @JO_PARRY__ART @pureangel40 @kat...\n",
              "3  Out of 168 countries that have begun administe...\n",
              "4  Disney World Opens COVID-19 Vaccine Site for W..."
            ]
          },
          "metadata": {
            "tags": []
          },
          "execution_count": 57
        }
      ]
    },
    {
      "cell_type": "code",
      "metadata": {
        "id": "pObeU13VpfOn"
      },
      "source": [
        "#Create a function to clean the tweets\n",
        "def cleanTwt(twt):\n",
        "  twt = re.sub('#Covid-19 vaccine', 'covid-19 vaccine', twt) #Removes the \"#\" from covid-19 vaccine\n",
        "  twt = re.sub('Covid-19 vaccine', 'covid-19 vaccine', twt) #Makes it lower case\n",
        "  twt = re.sub('COVID-19 vaccine', 'covid-19 vaccine', twt)\n",
        "  twt = re.sub('Covid19 vaccine', 'covid-19 vaccine', twt) #removes dash\n",
        "  twt = re.sub('#[A-Za-z0-9]+', '', twt) # Removes any string with a \n",
        "  twt = re.sub('\\\\n', '', twt) #Removes the '\\n' string\n",
        "  twt = re.sub('https?:\\/\\/\\S+','', twt) #Removes any hyperlinks\n",
        "  return twt"
      ],
      "execution_count": null,
      "outputs": []
    },
    {
      "cell_type": "code",
      "metadata": {
        "colab": {
          "base_uri": "https://localhost:8080/",
          "height": 204
        },
        "id": "dzBtEf7arrw_",
        "outputId": "60f6634e-af61-4baa-c775-2ba28fe322e4"
      },
      "source": [
        "#Clean the tweets\n",
        "df['Cleaned_Tweets'] = df['Tweets'].apply(cleanTwt)\n",
        "#Show the dataset\n",
        "df.head()\n"
      ],
      "execution_count": null,
      "outputs": [
        {
          "output_type": "execute_result",
          "data": {
            "text/html": [
              "<div>\n",
              "<style scoped>\n",
              "    .dataframe tbody tr th:only-of-type {\n",
              "        vertical-align: middle;\n",
              "    }\n",
              "\n",
              "    .dataframe tbody tr th {\n",
              "        vertical-align: top;\n",
              "    }\n",
              "\n",
              "    .dataframe thead th {\n",
              "        text-align: right;\n",
              "    }\n",
              "</style>\n",
              "<table border=\"1\" class=\"dataframe\">\n",
              "  <thead>\n",
              "    <tr style=\"text-align: right;\">\n",
              "      <th></th>\n",
              "      <th>Tweets</th>\n",
              "      <th>Cleaned_Tweets</th>\n",
              "    </tr>\n",
              "  </thead>\n",
              "  <tbody>\n",
              "    <tr>\n",
              "      <th>0</th>\n",
              "      <td>@Glaven1994 1. Infected NZ MIQ security guard ...</td>\n",
              "      <td>@Glaven1994 1. Infected NZ MIQ security guard ...</td>\n",
              "    </tr>\n",
              "    <tr>\n",
              "      <th>1</th>\n",
              "      <td>CDC: Nearly 80% of Teachers, School Staff, Chi...</td>\n",
              "      <td>CDC: Nearly 80% of Teachers, School Staff, Chi...</td>\n",
              "    </tr>\n",
              "    <tr>\n",
              "      <th>2</th>\n",
              "      <td>@MinorDub2021 @JO_PARRY__ART @pureangel40 @kat...</td>\n",
              "      <td>@MinorDub2021 @JO_PARRY__ART @pureangel40 @kat...</td>\n",
              "    </tr>\n",
              "    <tr>\n",
              "      <th>3</th>\n",
              "      <td>Out of 168 countries that have begun administe...</td>\n",
              "      <td>Out of 168 countries that have begun administe...</td>\n",
              "    </tr>\n",
              "    <tr>\n",
              "      <th>4</th>\n",
              "      <td>Disney World Opens COVID-19 Vaccine Site for W...</td>\n",
              "      <td>Disney World Opens COVID-19 Vaccine Site for W...</td>\n",
              "    </tr>\n",
              "  </tbody>\n",
              "</table>\n",
              "</div>"
            ],
            "text/plain": [
              "                                              Tweets                                     Cleaned_Tweets\n",
              "0  @Glaven1994 1. Infected NZ MIQ security guard ...  @Glaven1994 1. Infected NZ MIQ security guard ...\n",
              "1  CDC: Nearly 80% of Teachers, School Staff, Chi...  CDC: Nearly 80% of Teachers, School Staff, Chi...\n",
              "2  @MinorDub2021 @JO_PARRY__ART @pureangel40 @kat...  @MinorDub2021 @JO_PARRY__ART @pureangel40 @kat...\n",
              "3  Out of 168 countries that have begun administe...  Out of 168 countries that have begun administe...\n",
              "4  Disney World Opens COVID-19 Vaccine Site for W...  Disney World Opens COVID-19 Vaccine Site for W..."
            ]
          },
          "metadata": {
            "tags": []
          },
          "execution_count": 85
        }
      ]
    },
    {
      "cell_type": "code",
      "metadata": {
        "colab": {
          "base_uri": "https://localhost:8080/"
        },
        "id": "-WACfQ2-zO6v",
        "outputId": "5db7cfbc-2bb9-4294-b9bf-84c3875dbd8d"
      },
      "source": [
        "df.shape"
      ],
      "execution_count": null,
      "outputs": [
        {
          "output_type": "execute_result",
          "data": {
            "text/plain": [
              "(4000, 2)"
            ]
          },
          "metadata": {
            "tags": []
          },
          "execution_count": 83
        }
      ]
    },
    {
      "cell_type": "code",
      "metadata": {
        "colab": {
          "base_uri": "https://localhost:8080/",
          "height": 204
        },
        "id": "5erCPZFCzRmr",
        "outputId": "0c9f8870-3a6a-4b1b-e59f-7881baf0aeda"
      },
      "source": [
        "# Create function to get the subjectivity\n",
        "def getSubjectivity(twt):\n",
        "  return TextBlob(twt).sentiment.subjectivity\n",
        "\n",
        "# Create a function to get the polarity\n",
        "def getPolarity(twt):\n",
        "  return TextBlob(twt).sentiment.polarity\n",
        "\n",
        "#Create two new columns called 'subjectivity' & 'Polarity'\n",
        "df['Subjectivity'] = df['Cleaned_Tweets'].apply(getSubjectivity)\n",
        "df['Polarity'] = df ['Cleaned_Tweets'].apply(getPolarity)\n",
        "\n",
        "#Show Data\n",
        "df.head()"
      ],
      "execution_count": null,
      "outputs": [
        {
          "output_type": "execute_result",
          "data": {
            "text/html": [
              "<div>\n",
              "<style scoped>\n",
              "    .dataframe tbody tr th:only-of-type {\n",
              "        vertical-align: middle;\n",
              "    }\n",
              "\n",
              "    .dataframe tbody tr th {\n",
              "        vertical-align: top;\n",
              "    }\n",
              "\n",
              "    .dataframe thead th {\n",
              "        text-align: right;\n",
              "    }\n",
              "</style>\n",
              "<table border=\"1\" class=\"dataframe\">\n",
              "  <thead>\n",
              "    <tr style=\"text-align: right;\">\n",
              "      <th></th>\n",
              "      <th>Tweets</th>\n",
              "      <th>Cleaned_Tweets</th>\n",
              "      <th>Subjectivity</th>\n",
              "      <th>Polarity</th>\n",
              "    </tr>\n",
              "  </thead>\n",
              "  <tbody>\n",
              "    <tr>\n",
              "      <th>0</th>\n",
              "      <td>@Glaven1994 1. Infected NZ MIQ security guard ...</td>\n",
              "      <td>@Glaven1994 1. Infected NZ MIQ security guard ...</td>\n",
              "      <td>0.000000</td>\n",
              "      <td>0.000000</td>\n",
              "    </tr>\n",
              "    <tr>\n",
              "      <th>1</th>\n",
              "      <td>CDC: Nearly 80% of Teachers, School Staff, Chi...</td>\n",
              "      <td>CDC: Nearly 80% of Teachers, School Staff, Chi...</td>\n",
              "      <td>0.400000</td>\n",
              "      <td>-0.100000</td>\n",
              "    </tr>\n",
              "    <tr>\n",
              "      <th>2</th>\n",
              "      <td>@MinorDub2021 @JO_PARRY__ART @pureangel40 @kat...</td>\n",
              "      <td>@MinorDub2021 @JO_PARRY__ART @pureangel40 @kat...</td>\n",
              "      <td>0.540584</td>\n",
              "      <td>0.256494</td>\n",
              "    </tr>\n",
              "    <tr>\n",
              "      <th>3</th>\n",
              "      <td>Out of 168 countries that have begun administe...</td>\n",
              "      <td>Out of 168 countries that have begun administe...</td>\n",
              "      <td>0.000000</td>\n",
              "      <td>0.000000</td>\n",
              "    </tr>\n",
              "    <tr>\n",
              "      <th>4</th>\n",
              "      <td>Disney World Opens COVID-19 Vaccine Site for W...</td>\n",
              "      <td>Disney World Opens COVID-19 Vaccine Site for W...</td>\n",
              "      <td>0.000000</td>\n",
              "      <td>0.000000</td>\n",
              "    </tr>\n",
              "  </tbody>\n",
              "</table>\n",
              "</div>"
            ],
            "text/plain": [
              "                                              Tweets  ...  Polarity\n",
              "0  @Glaven1994 1. Infected NZ MIQ security guard ...  ...  0.000000\n",
              "1  CDC: Nearly 80% of Teachers, School Staff, Chi...  ... -0.100000\n",
              "2  @MinorDub2021 @JO_PARRY__ART @pureangel40 @kat...  ...  0.256494\n",
              "3  Out of 168 countries that have begun administe...  ...  0.000000\n",
              "4  Disney World Opens COVID-19 Vaccine Site for W...  ...  0.000000\n",
              "\n",
              "[5 rows x 4 columns]"
            ]
          },
          "metadata": {
            "tags": []
          },
          "execution_count": 86
        }
      ]
    },
    {
      "cell_type": "code",
      "metadata": {
        "id": "mprb7_0b017g"
      },
      "source": [
        "#Create a function to get the sentiment text\n",
        "def getSentiment(score):\n",
        "  if score < 0:\n",
        "    return 'Negative'\n",
        "  elif score == 0:\n",
        "    return 'Neutral'\n",
        "  else:\n",
        "    return 'Positive'\n",
        "  "
      ],
      "execution_count": null,
      "outputs": []
    },
    {
      "cell_type": "code",
      "metadata": {
        "colab": {
          "base_uri": "https://localhost:8080/",
          "height": 204
        },
        "id": "Z5X4pZsF1VyL",
        "outputId": "b8757001-4c33-4682-89e7-9fafdee8fad8"
      },
      "source": [
        "# Create a column to store the text sentiment\n",
        "df['Sentiment'] = df['Polarity'].apply(getSentiment)\n",
        "\n",
        "#Show the data\n",
        "df.head()"
      ],
      "execution_count": null,
      "outputs": [
        {
          "output_type": "execute_result",
          "data": {
            "text/html": [
              "<div>\n",
              "<style scoped>\n",
              "    .dataframe tbody tr th:only-of-type {\n",
              "        vertical-align: middle;\n",
              "    }\n",
              "\n",
              "    .dataframe tbody tr th {\n",
              "        vertical-align: top;\n",
              "    }\n",
              "\n",
              "    .dataframe thead th {\n",
              "        text-align: right;\n",
              "    }\n",
              "</style>\n",
              "<table border=\"1\" class=\"dataframe\">\n",
              "  <thead>\n",
              "    <tr style=\"text-align: right;\">\n",
              "      <th></th>\n",
              "      <th>Tweets</th>\n",
              "      <th>Cleaned_Tweets</th>\n",
              "      <th>Subjectivity</th>\n",
              "      <th>Polarity</th>\n",
              "      <th>Sentiment</th>\n",
              "    </tr>\n",
              "  </thead>\n",
              "  <tbody>\n",
              "    <tr>\n",
              "      <th>0</th>\n",
              "      <td>@Glaven1994 1. Infected NZ MIQ security guard ...</td>\n",
              "      <td>@Glaven1994 1. Infected NZ MIQ security guard ...</td>\n",
              "      <td>0.000000</td>\n",
              "      <td>0.000000</td>\n",
              "      <td>Neutral</td>\n",
              "    </tr>\n",
              "    <tr>\n",
              "      <th>1</th>\n",
              "      <td>CDC: Nearly 80% of Teachers, School Staff, Chi...</td>\n",
              "      <td>CDC: Nearly 80% of Teachers, School Staff, Chi...</td>\n",
              "      <td>0.400000</td>\n",
              "      <td>-0.100000</td>\n",
              "      <td>Negative</td>\n",
              "    </tr>\n",
              "    <tr>\n",
              "      <th>2</th>\n",
              "      <td>@MinorDub2021 @JO_PARRY__ART @pureangel40 @kat...</td>\n",
              "      <td>@MinorDub2021 @JO_PARRY__ART @pureangel40 @kat...</td>\n",
              "      <td>0.540584</td>\n",
              "      <td>0.256494</td>\n",
              "      <td>Positive</td>\n",
              "    </tr>\n",
              "    <tr>\n",
              "      <th>3</th>\n",
              "      <td>Out of 168 countries that have begun administe...</td>\n",
              "      <td>Out of 168 countries that have begun administe...</td>\n",
              "      <td>0.000000</td>\n",
              "      <td>0.000000</td>\n",
              "      <td>Neutral</td>\n",
              "    </tr>\n",
              "    <tr>\n",
              "      <th>4</th>\n",
              "      <td>Disney World Opens COVID-19 Vaccine Site for W...</td>\n",
              "      <td>Disney World Opens COVID-19 Vaccine Site for W...</td>\n",
              "      <td>0.000000</td>\n",
              "      <td>0.000000</td>\n",
              "      <td>Neutral</td>\n",
              "    </tr>\n",
              "  </tbody>\n",
              "</table>\n",
              "</div>"
            ],
            "text/plain": [
              "                                              Tweets  ... Sentiment\n",
              "0  @Glaven1994 1. Infected NZ MIQ security guard ...  ...   Neutral\n",
              "1  CDC: Nearly 80% of Teachers, School Staff, Chi...  ...  Negative\n",
              "2  @MinorDub2021 @JO_PARRY__ART @pureangel40 @kat...  ...  Positive\n",
              "3  Out of 168 countries that have begun administe...  ...   Neutral\n",
              "4  Disney World Opens COVID-19 Vaccine Site for W...  ...   Neutral\n",
              "\n",
              "[5 rows x 5 columns]"
            ]
          },
          "metadata": {
            "tags": []
          },
          "execution_count": 99
        }
      ]
    },
    {
      "cell_type": "code",
      "metadata": {
        "colab": {
          "base_uri": "https://localhost:8080/",
          "height": 441
        },
        "id": "0LsUfpUy1w5Y",
        "outputId": "0cdf13dd-f4ef-4b1f-819e-14b5e034e7f2"
      },
      "source": [
        "#Create a scatter plot to show the subjectivity and the polarity\n",
        "plt.figure(figsize =(8,6))\n",
        "for i in range (0, df.shape[0]):\n",
        "    plt.scatter(df['Polarity'][i], df ['Subjectivity'] [i], color = 'Purple')\n",
        "plt.title ('Sentiment analysis Scatter Plot')\n",
        "plt.xlabel('Polarity')\n",
        "plt.ylabel('Subjectivity (Objective --> Subjective)')\n",
        "plt.show()"
      ],
      "execution_count": null,
      "outputs": [
        {
          "output_type": "display_data",
          "data": {
            "image/png": "[encoded data removed]",
            "text/plain": [
              "<Figure size 576x432 with 1 Axes>"
            ]
          },
          "metadata": {
            "tags": []
          }
        }
      ]
    },
    {
      "cell_type": "code",
      "metadata": {
        "colab": {
          "base_uri": "https://localhost:8080/",
          "height": 374
        },
        "id": "-M9tTq5W5XOR",
        "outputId": "e38756b2-5cbb-4a3a-f888-aaf43b0dcba6"
      },
      "source": [
        "#Create Bar chart to show the count of Positive, Neutral and Negative Sentiments\n",
        "df['Sentiment'].value_counts().plot(kind='bar')\n",
        "plt.title ('Sentiment analysis Bar Plot')\n",
        "plt.xlabel('Polarity')\n",
        "plt.ylabel('Number of Tweets')\n",
        "plt.show()"
      ],
      "execution_count": null,
      "outputs": [
        {
          "output_type": "display_data",
          "data": {
            "image/png": "[encoded data removed]",
            "text/plain": [
              "<Figure size 432x288 with 1 Axes>"
            ]
          },
          "metadata": {
            "tags": []
          }
        }
      ]
    }
  ]
}